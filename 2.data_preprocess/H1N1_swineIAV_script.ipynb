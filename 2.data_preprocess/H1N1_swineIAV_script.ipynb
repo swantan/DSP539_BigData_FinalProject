{
 "cells": [
  {
   "cell_type": "markdown",
   "metadata": {},
   "source": [
    "#### To extract sequences according to protein segments"
   ]
  },
  {
   "cell_type": "code",
   "execution_count": 13,
   "metadata": {},
   "outputs": [],
   "source": [
    "from Bio import SeqIO\n",
    "\n",
    "#to generate each protein segment description \n",
    "#into 8 single file as reference for subsequent step\n",
    "f2 = open('proteinsegment.txt', 'r') \n",
    "segment = f2.readlines()\n",
    "op = ''\n",
    "counter = 1\n",
    "for n in range(len(segment)):\n",
    "    op = segment[n]\n",
    "    with open(str(counter) + '.txt', 'w') as opf:\n",
    "        opf.write(op)\n",
    "        opf.close()\n",
    "        op = ''\n",
    "        counter += 1\n",
    "\n",
    "#you will expect to get 8 files with different protein segment description"
   ]
  },
  {
   "cell_type": "code",
   "execution_count": 14,
   "metadata": {},
   "outputs": [],
   "source": [
    "for counter in range(1,9):\n",
    "    f1 = open('H1N1_swineIAV.FASTA','r')\n",
    "    f2 = open(str(counter) + '.txt', 'r')\n",
    "    f3 = open(str(counter) + '.fasta', 'w')\n",
    "    \n",
    "\n",
    "    AI_DICT = {}\n",
    "    for line in f2:\n",
    "        AI_DICT[line[:-1]] = 1\n",
    "\n",
    "    skip = 0\n",
    "    i = 1\n",
    "    for line in f1:\n",
    "        if line[0] == '>':\n",
    "            _splitline = line.split('|')\n",
    "            accessorIDWithArrow = _splitline[3]\n",
    "            # print accessorID\n",
    "            if accessorIDWithArrow in AI_DICT:\n",
    "                    f3.write(line)\n",
    "                    skip = 0\n",
    "            else:\n",
    "                skip = 1\n",
    "        else:\n",
    "            if not skip:\n",
    "                    f3.write(line)\n",
    "\n",
    "    f1.close()\n",
    "    f2.close()\n",
    "    f3.close()"
   ]
  },
  {
   "cell_type": "code",
   "execution_count": null,
   "metadata": {},
   "outputs": [],
   "source": []
  }
 ],
 "metadata": {
  "kernelspec": {
   "display_name": "Python 3",
   "language": "python",
   "name": "python3"
  },
  "language_info": {
   "codemirror_mode": {
    "name": "ipython",
    "version": 3
   },
   "file_extension": ".py",
   "mimetype": "text/x-python",
   "name": "python",
   "nbconvert_exporter": "python",
   "pygments_lexer": "ipython3",
   "version": "3.6.3"
  }
 },
 "nbformat": 4,
 "nbformat_minor": 2
}
