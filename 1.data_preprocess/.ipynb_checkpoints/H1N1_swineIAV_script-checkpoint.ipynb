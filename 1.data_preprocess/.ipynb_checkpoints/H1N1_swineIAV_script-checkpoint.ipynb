{
 "cells": [
  {
   "cell_type": "code",
   "execution_count": 6,
   "metadata": {},
   "outputs": [],
   "source": [
    "from Bio import SeqIO"
   ]
  },
  {
   "cell_type": "markdown",
   "metadata": {},
   "source": [
    "#### To extract sequences according to protein segments"
   ]
  },
  {
   "cell_type": "code",
   "execution_count": 4,
   "metadata": {},
   "outputs": [],
   "source": [
    "from Bio import SeqIO\n",
    "\n",
    "#to generate each protein segment description \n",
    "#into 8 single file as reference for subsequent step\n",
    "f2 = open('proteinsegment.txt', 'r') \n",
    "segment = f2.readlines()\n",
    "op = ''\n",
    "counter = 1\n",
    "for n in range(len(segment)):\n",
    "    op = segment[n]\n",
    "    with open(str(counter) + '.txt', 'w') as opf:\n",
    "        opf.write(op)\n",
    "        opf.close()\n",
    "        op = ''\n",
    "        counter += 1\n",
    "\n",
    "#you will expect to get 8 files with different protein segment description"
   ]
  },
  {
   "cell_type": "code",
   "execution_count": 5,
   "metadata": {},
   "outputs": [],
   "source": [
    "for counter in range(1,9):\n",
    "    f1 = open('H1N1_swineIAV.FASTA','r')\n",
    "    f2 = open(str(counter) + '.txt', 'r')\n",
    "    f3 = open(str(counter) + '.fasta', 'w')\n",
    "    \n",
    "\n",
    "    AI_DICT = {}\n",
    "    for line in f2:\n",
    "        AI_DICT[line[:-1]] = 1\n",
    "\n",
    "    skip = 0\n",
    "    i = 1\n",
    "    for line in f1:\n",
    "        if line[0] == '>':\n",
    "            _splitline = line.split('|')\n",
    "            accessorIDWithArrow = _splitline[3]\n",
    "            # print accessorID\n",
    "            if accessorIDWithArrow in AI_DICT:\n",
    "                    f3.write(line)\n",
    "                    skip = 0\n",
    "            else:\n",
    "                skip = 1\n",
    "        else:\n",
    "            if not skip:\n",
    "                    f3.write(line)\n",
    "\n",
    "    f1.close()\n",
    "    f2.close()\n",
    "    f3.close()"
   ]
  },
  {
   "cell_type": "markdown",
   "metadata": {},
   "source": [
    "#### To edit sequence header - make it shorter"
   ]
  },
  {
   "cell_type": "code",
   "execution_count": 7,
   "metadata": {},
   "outputs": [
    {
     "name": "stdout",
     "output_type": "stream",
     "text": [
      "gb:MG662677\n",
      "gb:MF373304\n",
      "gb:MF522008\n",
      "gb:MF801452\n",
      "gb:MG193793\n",
      "gb:MG521000\n",
      "gb:MG784646\n",
      "gb:MF522050\n",
      "gb:MF973350\n",
      "gb:MG521030\n",
      "gb:MG521108\n",
      "gb:MG662637\n",
      "gb:MF801574\n",
      "gb:MF801496\n",
      "gb:MF801554\n",
      "gb:MF373292\n",
      "gb:MF373298\n",
      "gb:MF373215\n",
      "gb:MF521996\n",
      "gb:MF522062\n",
      "gb:MF973356\n",
      "gb:MF973290\n",
      "gb:MG193903\n",
      "gb:MG193891\n",
      "gb:MG193775\n",
      "gb:MG193845\n",
      "gb:MG193807\n",
      "gb:MG193857\n",
      "gb:MG521048\n",
      "gb:MG521006\n",
      "gb:MG650642\n",
      "gb:MG662657\n",
      "gb:MG662553\n",
      "gb:MG784562\n",
      "gb:MG784592\n",
      "gb:MG784580\n",
      "gb:KY888027\n",
      "gb:MF116355\n",
      "gb:MG835451\n",
      "gb:MG912578\n",
      "gb:KY970162\n",
      "gb:MF801592\n",
      "gb:MF801522\n",
      "gb:MF373262\n",
      "gb:MF801516\n",
      "gb:MF973344\n",
      "gb:MF522032\n",
      "gb:MF522038\n",
      "gb:MF973314\n",
      "gb:MG193787\n",
      "gb:MG662601\n",
      "gb:MF373233\n",
      "gb:MG521024\n",
      "gb:MG784568\n",
      "gb:MF373280\n",
      "gb:MF522068\n",
      "gb:MG662571\n",
      "gb:MG784628\n",
      "gb:MF973374\n",
      "gb:MF716915\n",
      "gb:MF716920\n",
      "gb:MF801444\n",
      "gb:MF801534\n",
      "gb:MF801528\n",
      "gb:MF973392\n",
      "gb:MG193869\n",
      "gb:MG521042\n",
      "gb:MG784616\n",
      "gb:MF664401\n",
      "gb:MF973284\n",
      "gb:MF973368\n",
      "gb:MG521114\n"
     ]
    }
   ],
   "source": [
    "with open('1.fasta','r') as seq:\n",
    "    for record in SeqIO.parse(seq,\"fasta\"):\n",
    "        header = record.id.split(\"|\")\n",
    "        print(header[0])"
   ]
  },
  {
   "cell_type": "code",
   "execution_count": null,
   "metadata": {},
   "outputs": [],
   "source": []
  }
 ],
 "metadata": {
  "kernelspec": {
   "display_name": "Python 3",
   "language": "python",
   "name": "python3"
  },
  "language_info": {
   "codemirror_mode": {
    "name": "ipython",
    "version": 3
   },
   "file_extension": ".py",
   "mimetype": "text/x-python",
   "name": "python",
   "nbconvert_exporter": "python",
   "pygments_lexer": "ipython3",
   "version": "3.6.3"
  }
 },
 "nbformat": 4,
 "nbformat_minor": 2
}
